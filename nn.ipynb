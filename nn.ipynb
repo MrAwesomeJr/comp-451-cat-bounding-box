{
 "cells": [
  {
   "cell_type": "code",
   "execution_count": 1,
   "metadata": {},
   "outputs": [
    {
     "name": "stdout",
     "output_type": "stream",
     "text": [
      "Downloading split 'train' to '/Users/ryan.wong/fiftyone/open-images-v7/train' if necessary\n",
      "Necessary images already downloaded\n",
      "Existing download of split 'train' is sufficient\n",
      "Loading existing dataset 'open-images-v7-train'. To reload from disk, either delete the existing dataset or provide a custom `dataset_name` to use\n"
     ]
    }
   ],
   "source": [
    "import fiftyone as fo\n",
    "import numpy as np\n",
    "\n",
    "dataset = fo.zoo.load_zoo_dataset(\n",
    "              \"open-images-v7\",\n",
    "              split=\"train\",\n",
    "              label_types=[\"detections\"],\n",
    "              classes=[\"Cat\"],\n",
    "            #   max_samples=10,\n",
    "          )"
   ]
  },
  {
   "cell_type": "code",
   "execution_count": 2,
   "metadata": {},
   "outputs": [],
   "source": [
    "import torch\n",
    "import torch.nn as nn\n",
    "import torch.nn.functional as F\n",
    "import torchvision\n",
    "import torch.optim as optim\n",
    "import torchvision.transforms as transforms\n",
    "import cv2"
   ]
  },
  {
   "cell_type": "code",
   "execution_count": null,
   "metadata": {},
   "outputs": [],
   "source": [
    "# batching is not necessary if we're using fasterrcnn_resnet50_fpn.\n",
    "\n",
    "# batch_size = 100\n",
    "# n_samples = len(dataset)\n",
    "\n",
    "\n",
    "# x_size = 267\n",
    "# y_size = 326\n",
    "# # (267 x 326) is the number of pixels in the smallest images\n",
    "# # TODO: we downsize all images? i guess\n",
    "# batched_data = np.ndarray((n_samples // batch_size, batch_size, y_size, x_size, 3))\n",
    "# batched_boxes = np.ndarray((n_samples // batch_size, batch_size, 4))\n",
    "\n",
    "# for batch_index in range(n_samples // batch_size):\n",
    "#     for i, sample in enumerate(dataset[batch_index * batch_size:(batch_index + 1) * batch_size]):\n",
    "#         batched_data[batch_index, i] = cv2.resize(cv2.imread(sample['filepath']), (x_size, y_size))\n",
    "\n",
    "#         for detection in sample['ground_truth']['detections']:\n",
    "#             if detection['label'] == 'Cat':\n",
    "#                 batched_boxes[batch_index, i] = detection['bounding_box']\n",
    "#                 break\n"
   ]
  },
  {
   "cell_type": "code",
   "execution_count": null,
   "metadata": {},
   "outputs": [
    {
     "ename": "TypeError",
     "evalue": "can't assign a numpy.ndarray to a torch.DoubleTensor",
     "output_type": "error",
     "traceback": [
      "\u001b[0;31m---------------------------------------------------------------------------\u001b[0m",
      "\u001b[0;31mTypeError\u001b[0m                                 Traceback (most recent call last)",
      "Cell \u001b[0;32mIn[4], line 4\u001b[0m\n\u001b[1;32m      2\u001b[0m unbatched_boxes \u001b[38;5;241m=\u001b[39m np\u001b[38;5;241m.\u001b[39mndarray((n_samples, \u001b[38;5;241m4\u001b[39m))\n\u001b[1;32m      3\u001b[0m \u001b[38;5;28;01mfor\u001b[39;00m i, sample \u001b[38;5;129;01min\u001b[39;00m \u001b[38;5;28menumerate\u001b[39m(dataset):\n\u001b[0;32m----> 4\u001b[0m     \u001b[43munbatched_data\u001b[49m\u001b[43m[\u001b[49m\u001b[43mi\u001b[49m\u001b[43m]\u001b[49m \u001b[38;5;241m=\u001b[39m cv2\u001b[38;5;241m.\u001b[39mresize(cv2\u001b[38;5;241m.\u001b[39mimread(sample[\u001b[38;5;124m'\u001b[39m\u001b[38;5;124mfilepath\u001b[39m\u001b[38;5;124m'\u001b[39m]), (x_size, y_size))\n\u001b[1;32m      5\u001b[0m     \u001b[38;5;28;01mfor\u001b[39;00m detection \u001b[38;5;129;01min\u001b[39;00m sample[\u001b[38;5;124m'\u001b[39m\u001b[38;5;124mground_truth\u001b[39m\u001b[38;5;124m'\u001b[39m][\u001b[38;5;124m'\u001b[39m\u001b[38;5;124mdetections\u001b[39m\u001b[38;5;124m'\u001b[39m]:\n\u001b[1;32m      6\u001b[0m             \u001b[38;5;28;01mif\u001b[39;00m detection[\u001b[38;5;124m'\u001b[39m\u001b[38;5;124mlabel\u001b[39m\u001b[38;5;124m'\u001b[39m] \u001b[38;5;241m==\u001b[39m \u001b[38;5;124m'\u001b[39m\u001b[38;5;124mCat\u001b[39m\u001b[38;5;124m'\u001b[39m:\n",
      "\u001b[0;31mTypeError\u001b[0m: can't assign a numpy.ndarray to a torch.DoubleTensor"
     ]
    }
   ],
   "source": [
    "unbatched_data = np.ndarray((n_samples, y_size, x_size, 3))\n",
    "unbatched_boxes = np.ndarray((n_samples, 4))\n",
    "for i, sample in enumerate(dataset):\n",
    "    unbatched_data[i] = cv2.resize(cv2.imread(sample['filepath']), (x_size, y_size))\n",
    "    for detection in sample['ground_truth']['detections']:\n",
    "            if detection['label'] == 'Cat':\n",
    "                unbatched_boxes[i] = detection['bounding_box']\n",
    "                break\n",
    "\n",
    "targets = []\n",
    "for i in range(n_samples):\n",
    "     d = {}\n",
    "     d['boxes'] = torch.tensor(np.array(unbatched_boxes[i]))\n",
    "     d['labels'] = ['Cat']\n",
    "     targets.append(d)"
   ]
  },
  {
   "cell_type": "code",
   "execution_count": null,
   "metadata": {},
   "outputs": [],
   "source": []
  },
  {
   "cell_type": "code",
   "execution_count": null,
   "metadata": {},
   "outputs": [],
   "source": [
    "import ssl\n",
    "ssl._create_default_https_context = ssl._create_unverified_context\n",
    "\n",
    "model = torchvision.models.detection.fasterrcnn_resnet50_fpn(weights=torchvision.models.detection.FasterRCNN_ResNet50_FPN_Weights.DEFAULT)\n",
    "print(unbatched_data.shape, unbatched_boxes.shape)\n",
    "output = model(unbatched_data, targets)\n",
    "model.eval()"
   ]
  }
 ],
 "metadata": {
  "kernelspec": {
   "display_name": "Python 3",
   "language": "python",
   "name": "python3"
  },
  "language_info": {
   "codemirror_mode": {
    "name": "ipython",
    "version": 3
   },
   "file_extension": ".py",
   "mimetype": "text/x-python",
   "name": "python",
   "nbconvert_exporter": "python",
   "pygments_lexer": "ipython3",
   "version": "3.11.5"
  }
 },
 "nbformat": 4,
 "nbformat_minor": 2
}
